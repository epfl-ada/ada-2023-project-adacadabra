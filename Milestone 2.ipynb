{
 "cells": [
  {
   "cell_type": "markdown",
   "metadata": {},
   "source": [
    "# Importing libraries"
   ]
  },
  {
   "cell_type": "code",
   "execution_count": 120,
   "metadata": {},
   "outputs": [],
   "source": [
    "# importing libraries\n",
    "import gzip\n",
    "import matplotlib.pyplot as plt\n",
    "import numpy as np\n",
    "import pandas as pd\n",
    "import re\n",
    "import seaborn as sns\n",
    "import scipy.stats as stats"
   ]
  },
  {
   "cell_type": "code",
   "execution_count": 121,
   "metadata": {},
   "outputs": [
    {
     "data": {
      "text/html": [
       "<div>\n",
       "<style scoped>\n",
       "    .dataframe tbody tr th:only-of-type {\n",
       "        vertical-align: middle;\n",
       "    }\n",
       "\n",
       "    .dataframe tbody tr th {\n",
       "        vertical-align: top;\n",
       "    }\n",
       "\n",
       "    .dataframe thead th {\n",
       "        text-align: right;\n",
       "    }\n",
       "</style>\n",
       "<table border=\"1\" class=\"dataframe\">\n",
       "  <thead>\n",
       "    <tr style=\"text-align: right;\">\n",
       "      <th></th>\n",
       "      <th>channel</th>\n",
       "      <th>category</th>\n",
       "      <th>datetime</th>\n",
       "      <th>views</th>\n",
       "      <th>delta_views</th>\n",
       "      <th>subs</th>\n",
       "      <th>delta_subs</th>\n",
       "      <th>videos</th>\n",
       "      <th>delta_videos</th>\n",
       "      <th>activity</th>\n",
       "    </tr>\n",
       "  </thead>\n",
       "  <tbody>\n",
       "    <tr>\n",
       "      <th>0</th>\n",
       "      <td>UCBJuEqXfXTdcPSbGO9qqn1g</td>\n",
       "      <td>Film and Animation</td>\n",
       "      <td>2017-07-03</td>\n",
       "      <td>2.024946e+05</td>\n",
       "      <td>0.000000</td>\n",
       "      <td>650.222222</td>\n",
       "      <td>0.000000</td>\n",
       "      <td>5</td>\n",
       "      <td>0</td>\n",
       "      <td>3</td>\n",
       "    </tr>\n",
       "    <tr>\n",
       "      <th>1</th>\n",
       "      <td>UCBJuEqXfXTdcPSbGO9qqn1g</td>\n",
       "      <td>Film and Animation</td>\n",
       "      <td>2017-07-10</td>\n",
       "      <td>3.940857e+05</td>\n",
       "      <td>191591.111111</td>\n",
       "      <td>1046.000000</td>\n",
       "      <td>395.777778</td>\n",
       "      <td>6</td>\n",
       "      <td>1</td>\n",
       "      <td>1</td>\n",
       "    </tr>\n",
       "    <tr>\n",
       "      <th>2</th>\n",
       "      <td>UCBJuEqXfXTdcPSbGO9qqn1g</td>\n",
       "      <td>Film and Animation</td>\n",
       "      <td>2017-07-17</td>\n",
       "      <td>8.353938e+05</td>\n",
       "      <td>441308.083333</td>\n",
       "      <td>1501.500000</td>\n",
       "      <td>455.500000</td>\n",
       "      <td>6</td>\n",
       "      <td>0</td>\n",
       "      <td>1</td>\n",
       "    </tr>\n",
       "    <tr>\n",
       "      <th>3</th>\n",
       "      <td>UCBJuEqXfXTdcPSbGO9qqn1g</td>\n",
       "      <td>Film and Animation</td>\n",
       "      <td>2017-07-24</td>\n",
       "      <td>1.104577e+06</td>\n",
       "      <td>269183.250000</td>\n",
       "      <td>1750.000000</td>\n",
       "      <td>248.500000</td>\n",
       "      <td>6</td>\n",
       "      <td>0</td>\n",
       "      <td>0</td>\n",
       "    </tr>\n",
       "    <tr>\n",
       "      <th>4</th>\n",
       "      <td>UCBJuEqXfXTdcPSbGO9qqn1g</td>\n",
       "      <td>Film and Animation</td>\n",
       "      <td>2017-07-31</td>\n",
       "      <td>1.284406e+06</td>\n",
       "      <td>179828.600000</td>\n",
       "      <td>2008.300000</td>\n",
       "      <td>258.300000</td>\n",
       "      <td>6</td>\n",
       "      <td>0</td>\n",
       "      <td>0</td>\n",
       "    </tr>\n",
       "    <tr>\n",
       "      <th>...</th>\n",
       "      <td>...</td>\n",
       "      <td>...</td>\n",
       "      <td>...</td>\n",
       "      <td>...</td>\n",
       "      <td>...</td>\n",
       "      <td>...</td>\n",
       "      <td>...</td>\n",
       "      <td>...</td>\n",
       "      <td>...</td>\n",
       "      <td>...</td>\n",
       "    </tr>\n",
       "    <tr>\n",
       "      <th>21553643</th>\n",
       "      <td>UC0UeVA9YHpOEr_Ng442xiRw</td>\n",
       "      <td>Gaming</td>\n",
       "      <td>2019-09-02</td>\n",
       "      <td>6.012938e+06</td>\n",
       "      <td>232418.277778</td>\n",
       "      <td>61268.611111</td>\n",
       "      <td>1305.611111</td>\n",
       "      <td>278</td>\n",
       "      <td>2</td>\n",
       "      <td>10</td>\n",
       "    </tr>\n",
       "    <tr>\n",
       "      <th>21553644</th>\n",
       "      <td>UC0UeVA9YHpOEr_Ng442xiRw</td>\n",
       "      <td>Gaming</td>\n",
       "      <td>2019-09-09</td>\n",
       "      <td>6.244579e+06</td>\n",
       "      <td>231640.888889</td>\n",
       "      <td>62631.666667</td>\n",
       "      <td>1363.055556</td>\n",
       "      <td>287</td>\n",
       "      <td>9</td>\n",
       "      <td>13</td>\n",
       "    </tr>\n",
       "    <tr>\n",
       "      <th>21553645</th>\n",
       "      <td>UC0UeVA9YHpOEr_Ng442xiRw</td>\n",
       "      <td>Gaming</td>\n",
       "      <td>2019-09-16</td>\n",
       "      <td>6.480902e+06</td>\n",
       "      <td>236322.933333</td>\n",
       "      <td>64010.000000</td>\n",
       "      <td>1378.333333</td>\n",
       "      <td>294</td>\n",
       "      <td>7</td>\n",
       "      <td>16</td>\n",
       "    </tr>\n",
       "    <tr>\n",
       "      <th>21553646</th>\n",
       "      <td>UC0UeVA9YHpOEr_Ng442xiRw</td>\n",
       "      <td>Gaming</td>\n",
       "      <td>2019-09-23</td>\n",
       "      <td>6.745317e+06</td>\n",
       "      <td>264415.200000</td>\n",
       "      <td>65480.000000</td>\n",
       "      <td>1470.000000</td>\n",
       "      <td>301</td>\n",
       "      <td>7</td>\n",
       "      <td>15</td>\n",
       "    </tr>\n",
       "    <tr>\n",
       "      <th>21553647</th>\n",
       "      <td>UC0UeVA9YHpOEr_Ng442xiRw</td>\n",
       "      <td>Gaming</td>\n",
       "      <td>2019-09-30</td>\n",
       "      <td>6.987738e+06</td>\n",
       "      <td>242420.771429</td>\n",
       "      <td>66542.857143</td>\n",
       "      <td>1062.857143</td>\n",
       "      <td>308</td>\n",
       "      <td>7</td>\n",
       "      <td>16</td>\n",
       "    </tr>\n",
       "  </tbody>\n",
       "</table>\n",
       "<p>21551126 rows × 10 columns</p>\n",
       "</div>"
      ],
      "text/plain": [
       "                           channel            category   datetime  \\\n",
       "0         UCBJuEqXfXTdcPSbGO9qqn1g  Film and Animation 2017-07-03   \n",
       "1         UCBJuEqXfXTdcPSbGO9qqn1g  Film and Animation 2017-07-10   \n",
       "2         UCBJuEqXfXTdcPSbGO9qqn1g  Film and Animation 2017-07-17   \n",
       "3         UCBJuEqXfXTdcPSbGO9qqn1g  Film and Animation 2017-07-24   \n",
       "4         UCBJuEqXfXTdcPSbGO9qqn1g  Film and Animation 2017-07-31   \n",
       "...                            ...                 ...        ...   \n",
       "21553643  UC0UeVA9YHpOEr_Ng442xiRw              Gaming 2019-09-02   \n",
       "21553644  UC0UeVA9YHpOEr_Ng442xiRw              Gaming 2019-09-09   \n",
       "21553645  UC0UeVA9YHpOEr_Ng442xiRw              Gaming 2019-09-16   \n",
       "21553646  UC0UeVA9YHpOEr_Ng442xiRw              Gaming 2019-09-23   \n",
       "21553647  UC0UeVA9YHpOEr_Ng442xiRw              Gaming 2019-09-30   \n",
       "\n",
       "                 views    delta_views          subs   delta_subs  videos  \\\n",
       "0         2.024946e+05       0.000000    650.222222     0.000000       5   \n",
       "1         3.940857e+05  191591.111111   1046.000000   395.777778       6   \n",
       "2         8.353938e+05  441308.083333   1501.500000   455.500000       6   \n",
       "3         1.104577e+06  269183.250000   1750.000000   248.500000       6   \n",
       "4         1.284406e+06  179828.600000   2008.300000   258.300000       6   \n",
       "...                ...            ...           ...          ...     ...   \n",
       "21553643  6.012938e+06  232418.277778  61268.611111  1305.611111     278   \n",
       "21553644  6.244579e+06  231640.888889  62631.666667  1363.055556     287   \n",
       "21553645  6.480902e+06  236322.933333  64010.000000  1378.333333     294   \n",
       "21553646  6.745317e+06  264415.200000  65480.000000  1470.000000     301   \n",
       "21553647  6.987738e+06  242420.771429  66542.857143  1062.857143     308   \n",
       "\n",
       "          delta_videos  activity  \n",
       "0                    0         3  \n",
       "1                    1         1  \n",
       "2                    0         1  \n",
       "3                    0         0  \n",
       "4                    0         0  \n",
       "...                ...       ...  \n",
       "21553643             2        10  \n",
       "21553644             9        13  \n",
       "21553645             7        16  \n",
       "21553646             7        15  \n",
       "21553647             7        16  \n",
       "\n",
       "[21551126 rows x 10 columns]"
      ]
     },
     "metadata": {},
     "output_type": "display_data"
    },
    {
     "data": {
      "text/html": [
       "<div>\n",
       "<style scoped>\n",
       "    .dataframe tbody tr th:only-of-type {\n",
       "        vertical-align: middle;\n",
       "    }\n",
       "\n",
       "    .dataframe tbody tr th {\n",
       "        vertical-align: top;\n",
       "    }\n",
       "\n",
       "    .dataframe thead th {\n",
       "        text-align: right;\n",
       "    }\n",
       "</style>\n",
       "<table border=\"1\" class=\"dataframe\">\n",
       "  <thead>\n",
       "    <tr style=\"text-align: right;\">\n",
       "      <th></th>\n",
       "      <th>category_cc</th>\n",
       "      <th>join_date</th>\n",
       "      <th>channel</th>\n",
       "      <th>name_cc</th>\n",
       "      <th>subscribers_cc</th>\n",
       "      <th>videos_cc</th>\n",
       "      <th>subscriber_rank_sb</th>\n",
       "      <th>weights</th>\n",
       "    </tr>\n",
       "  </thead>\n",
       "  <tbody>\n",
       "    <tr>\n",
       "      <th>0</th>\n",
       "      <td>Gaming</td>\n",
       "      <td>2010-04-29</td>\n",
       "      <td>UC-lHJZR3Gqxm24_Vd_AJ5Yw</td>\n",
       "      <td>PewDiePie</td>\n",
       "      <td>101000000</td>\n",
       "      <td>3956</td>\n",
       "      <td>3.0</td>\n",
       "      <td>2.0870</td>\n",
       "    </tr>\n",
       "    <tr>\n",
       "      <th>1</th>\n",
       "      <td>Education</td>\n",
       "      <td>2006-09-01</td>\n",
       "      <td>UCbCmjCuTUZos6Inko4u57UQ</td>\n",
       "      <td>Cocomelon - Nursery ...</td>\n",
       "      <td>60100000</td>\n",
       "      <td>458</td>\n",
       "      <td>7.0</td>\n",
       "      <td>2.0870</td>\n",
       "    </tr>\n",
       "    <tr>\n",
       "      <th>2</th>\n",
       "      <td>Entertainment</td>\n",
       "      <td>2006-09-20</td>\n",
       "      <td>UCpEhnqL0y41EpW2TvWAHD7Q</td>\n",
       "      <td>SET India</td>\n",
       "      <td>56018869</td>\n",
       "      <td>32661</td>\n",
       "      <td>8.0</td>\n",
       "      <td>2.0870</td>\n",
       "    </tr>\n",
       "    <tr>\n",
       "      <th>3</th>\n",
       "      <td>Howto &amp; Style</td>\n",
       "      <td>2016-11-15</td>\n",
       "      <td>UC295-Dw_tDNtZXFeAPAW6Aw</td>\n",
       "      <td>5-Minute Crafts</td>\n",
       "      <td>60600000</td>\n",
       "      <td>3591</td>\n",
       "      <td>9.0</td>\n",
       "      <td>2.0870</td>\n",
       "    </tr>\n",
       "    <tr>\n",
       "      <th>4</th>\n",
       "      <td>Sports</td>\n",
       "      <td>2007-05-11</td>\n",
       "      <td>UCJ5v_MCY6GNUBTO8-D3XoAg</td>\n",
       "      <td>WWE</td>\n",
       "      <td>48400000</td>\n",
       "      <td>43421</td>\n",
       "      <td>11.0</td>\n",
       "      <td>2.0870</td>\n",
       "    </tr>\n",
       "    <tr>\n",
       "      <th>...</th>\n",
       "      <td>...</td>\n",
       "      <td>...</td>\n",
       "      <td>...</td>\n",
       "      <td>...</td>\n",
       "      <td>...</td>\n",
       "      <td>...</td>\n",
       "      <td>...</td>\n",
       "      <td>...</td>\n",
       "    </tr>\n",
       "    <tr>\n",
       "      <th>136465</th>\n",
       "      <td>Music</td>\n",
       "      <td>2016-10-06</td>\n",
       "      <td>UCuM-9AajUOwKw6ipOzu2DRQ</td>\n",
       "      <td>GONE.Fludd - Topic</td>\n",
       "      <td>10128</td>\n",
       "      <td>105</td>\n",
       "      <td>1008139.0</td>\n",
       "      <td>53.1435</td>\n",
       "    </tr>\n",
       "    <tr>\n",
       "      <th>136466</th>\n",
       "      <td>People &amp; Blogs</td>\n",
       "      <td>2013-10-17</td>\n",
       "      <td>UCtW9jp5TH0YrgYpwiRf9t-Q</td>\n",
       "      <td>saidthestory</td>\n",
       "      <td>10100</td>\n",
       "      <td>352</td>\n",
       "      <td>1008644.0</td>\n",
       "      <td>53.1435</td>\n",
       "    </tr>\n",
       "    <tr>\n",
       "      <th>136467</th>\n",
       "      <td>Gaming</td>\n",
       "      <td>2015-05-08</td>\n",
       "      <td>UCTsxFTIUs8vFDzGccDm6i7Q</td>\n",
       "      <td>Omni H</td>\n",
       "      <td>10000</td>\n",
       "      <td>475</td>\n",
       "      <td>1009505.0</td>\n",
       "      <td>53.1435</td>\n",
       "    </tr>\n",
       "    <tr>\n",
       "      <th>136468</th>\n",
       "      <td>Music</td>\n",
       "      <td>2011-04-13</td>\n",
       "      <td>UC1HOArgRCMGPjlcmkThERwA</td>\n",
       "      <td>TĀLĀ</td>\n",
       "      <td>10000</td>\n",
       "      <td>15</td>\n",
       "      <td>1025119.0</td>\n",
       "      <td>53.1435</td>\n",
       "    </tr>\n",
       "    <tr>\n",
       "      <th>136469</th>\n",
       "      <td>People &amp; Blogs</td>\n",
       "      <td>2006-11-11</td>\n",
       "      <td>UCITKvry4fW50iU4FSw9WERQ</td>\n",
       "      <td>Tangleblog</td>\n",
       "      <td>10000</td>\n",
       "      <td>159</td>\n",
       "      <td>1030844.0</td>\n",
       "      <td>53.1435</td>\n",
       "    </tr>\n",
       "  </tbody>\n",
       "</table>\n",
       "<p>136470 rows × 8 columns</p>\n",
       "</div>"
      ],
      "text/plain": [
       "           category_cc  join_date                   channel  \\\n",
       "0               Gaming 2010-04-29  UC-lHJZR3Gqxm24_Vd_AJ5Yw   \n",
       "1            Education 2006-09-01  UCbCmjCuTUZos6Inko4u57UQ   \n",
       "2        Entertainment 2006-09-20  UCpEhnqL0y41EpW2TvWAHD7Q   \n",
       "3        Howto & Style 2016-11-15  UC295-Dw_tDNtZXFeAPAW6Aw   \n",
       "4               Sports 2007-05-11  UCJ5v_MCY6GNUBTO8-D3XoAg   \n",
       "...                ...        ...                       ...   \n",
       "136465           Music 2016-10-06  UCuM-9AajUOwKw6ipOzu2DRQ   \n",
       "136466  People & Blogs 2013-10-17  UCtW9jp5TH0YrgYpwiRf9t-Q   \n",
       "136467          Gaming 2015-05-08  UCTsxFTIUs8vFDzGccDm6i7Q   \n",
       "136468           Music 2011-04-13  UC1HOArgRCMGPjlcmkThERwA   \n",
       "136469  People & Blogs 2006-11-11  UCITKvry4fW50iU4FSw9WERQ   \n",
       "\n",
       "                        name_cc  subscribers_cc  videos_cc  \\\n",
       "0                     PewDiePie       101000000       3956   \n",
       "1       Cocomelon - Nursery ...        60100000        458   \n",
       "2                     SET India        56018869      32661   \n",
       "3               5-Minute Crafts        60600000       3591   \n",
       "4                           WWE        48400000      43421   \n",
       "...                         ...             ...        ...   \n",
       "136465       GONE.Fludd - Topic           10128        105   \n",
       "136466             saidthestory           10100        352   \n",
       "136467                   Omni H           10000        475   \n",
       "136468                     TĀLĀ           10000         15   \n",
       "136469               Tangleblog           10000        159   \n",
       "\n",
       "        subscriber_rank_sb  weights  \n",
       "0                      3.0   2.0870  \n",
       "1                      7.0   2.0870  \n",
       "2                      8.0   2.0870  \n",
       "3                      9.0   2.0870  \n",
       "4                     11.0   2.0870  \n",
       "...                    ...      ...  \n",
       "136465           1008139.0  53.1435  \n",
       "136466           1008644.0  53.1435  \n",
       "136467           1009505.0  53.1435  \n",
       "136468           1025119.0  53.1435  \n",
       "136469           1030844.0  53.1435  \n",
       "\n",
       "[136470 rows x 8 columns]"
      ]
     },
     "metadata": {},
     "output_type": "display_data"
    }
   ],
   "source": [
    "### Initial definitions and loading of datasets\n",
    "\n",
    "# dataset file paths\n",
    "data_path = './data/yt_metadata_en.jsonl.gz'\n",
    "channels_path = './data/df_channels_en.tsv'\n",
    "timeseries_path = './data/df_timeseries.tsv'\n",
    "\n",
    "# Define the start and end dates of our study\n",
    "start_date = pd.Timestamp('2016-01-01')\n",
    "end_date = pd.Timestamp('2019-12-31')\n",
    "\n",
    "### loading datasets\n",
    "df_channels = pd.read_csv(channels_path, sep ='\\t')\n",
    "df_timeseries = pd.read_csv(timeseries_path, sep ='\\t')\n",
    "# youtube metadata is not loaded at this point because of its large size. \n",
    "# We will proceed to pre-process and load it under the preprocessing section. \n",
    "\n",
    "# convert dates into datetime format\n",
    "df_channels['join_date'] = pd.to_datetime(df_channels['join_date'])\n",
    "df_timeseries['datetime'] = pd.to_datetime(df_timeseries['datetime'])\n",
    "\n",
    "# only keep data within the dates of interest for our study\n",
    "df_channels.drop(df_channels[df_channels.join_date > end_date].index, inplace=True)\n",
    "df_timeseries.drop(df_timeseries[df_timeseries.datetime > end_date].index, inplace=True)\n",
    "df_timeseries.drop(df_timeseries[df_timeseries.datetime < start_date].index, inplace=True)\n",
    "\n",
    "display(df_timeseries)\n",
    "display(df_channels)"
   ]
  },
  {
   "cell_type": "markdown",
   "metadata": {},
   "source": [
    "# First look at the data\n",
    "\n",
    "In this section, we will plot some graphs to get a preliminary understanding of the data we will be working with. \n",
    "\n",
    "## Data on YouTube Channels\n",
    "\n",
    "We will first make a plot of channels by categories, for each of the three years along the x-axis, and the y, is the channel count. This will give us an idea of the categories with the most number channel created in each year. \n",
    "\n",
    "We will restrict our data of interest to those between the years of 2016 and 2019 since those are the years of interest for our study. \n",
    "\n",
    "We will then make a plot over the distributions of subscriber count (subscriber_cc). "
   ]
  },
  {
   "cell_type": "code",
   "execution_count": 122,
   "metadata": {},
   "outputs": [
    {
     "data": {
      "image/png": "[encoded data removed]",
      "text/plain": [
       "<Figure size 1000x800 with 1 Axes>"
      ]
     },
     "metadata": {},
     "output_type": "display_data"
    }
   ],
   "source": [
    "# Filter out channels created before 2016, since \n",
    "channels_graph = df_channels.drop(df_channels[df_channels.join_date < start_date].index)\n",
    "\n",
    "# First, we'll add a 'year' column to our DataFrame for grouping our data later\n",
    "channels_graph['year'] = channels_graph['join_date'].dt.year\n",
    "\n",
    "# Now, group by 'category_cc' and 'year' and count the number of occurrences\n",
    "category_counts = channels_graph.groupby(['category_cc', 'year']).size().unstack(level=1)\n",
    "\n",
    "# Plot number of channels joining each year\n",
    "category_counts.plot(kind='bar', figsize=(10, 8))\n",
    "plt.title('Channel Counts by Category and Year')\n",
    "plt.xlabel('Category')\n",
    "plt.ylabel('Number of channels')\n",
    "plt.xticks(rotation=45)  # Rotate category labels if they overlap\n",
    "plt.legend(title='Year', labels = [2016, 2017, 2018, 2019])\n",
    "plt.tight_layout()  # Adjust the plot to ensure everything fits without overlapping\n",
    "plt.show()"
   ]
  },
  {
   "cell_type": "markdown",
   "metadata": {},
   "source": [
    "### Identifying missing data in channels dataset\n",
    "Since the `df_channels_en.tsv` dataset is known to be obtained in September of 2019, there is likely to be missing channel data in the year 2019. In this section, we will proceed to acertain the date from which we no longer have channel data. "
   ]
  },
  {
   "cell_type": "code",
   "execution_count": 123,
   "metadata": {},
   "outputs": [
    {
     "data": {
      "image/png": "[encoded data removed]",
      "text/plain": [
       "<Figure size 1200x800 with 1 Axes>"
      ]
     },
     "metadata": {},
     "output_type": "display_data"
    },
    {
     "data": {
      "text/plain": [
       "'Last channel join date in the dataset: 2019-08-23 00:00:00'"
      ]
     },
     "metadata": {},
     "output_type": "display_data"
    }
   ],
   "source": [
    "# Plotting the number of channels joining in 2019 by month to identify missing data\n",
    "\n",
    "channels_2019 = channels_graph[(channels_graph['join_date']>='2019-01-01') & (channels_graph['join_date']<='2019-12-31')].copy()\n",
    "channels_2019['month'] = channels_2019['join_date'].dt.month\n",
    "\n",
    "# Group by 'month' and then get the size of each grouping\n",
    "category_counts_2019 = channels_2019.groupby(['month']).size().reset_index(name='counts')\n",
    "\n",
    "# Now, plot the results with seaborn\n",
    "plt.figure(figsize=(12, 8))\n",
    "sns.barplot(x='month', y='counts', data=category_counts_2019)\n",
    "\n",
    "plt.title('Channel Categories Count in 2019 by Month')\n",
    "plt.xlabel('Month')\n",
    "plt.ylabel('Number of channels')\n",
    "plt.show()\n",
    "\n",
    "# find the channel with the last join date in the channels dataset\n",
    "display(\"Last channel join date in the dataset: \" + str(channels_2019['join_date'].max()))"
   ]
  },
  {
   "cell_type": "markdown",
   "metadata": {},
   "source": [
    "## YouTube Timeseries data\n",
    "\n",
    "We have identified the categories of **Gaming**, **People & Blogs** and **How-to & Style** as categories of interest for our project. In this section, we will proceeed to take a closer look at the timeseries data for these categories of videos. We will first look at the number of videos in each category in each year to get a preliminary understanding of the size of the data we will be working with. "
   ]
  },
  {
   "cell_type": "code",
   "execution_count": 124,
   "metadata": {},
   "outputs": [
    {
     "data": {
      "image/png": "[encoded data removed]",
      "text/plain": [
       "<Figure size 1200x800 with 1 Axes>"
      ]
     },
     "metadata": {},
     "output_type": "display_data"
    }
   ],
   "source": [
    "# Filter timeseries data to only include videos in categories of interest\n",
    "video_cat_timeseries = df_timeseries[df_timeseries['category'].isin(['Gaming', 'People & Blogs', 'Howto & Style'])].copy()\n",
    "\n",
    "# Extract the year from channel join date into a new column\n",
    "video_cat_timeseries['year'] = video_cat_timeseries['datetime'].dt.year\n",
    "\n",
    "# get size of each year and channel category group\n",
    "video_category_counts = video_cat_timeseries.groupby(['year', 'category']).size().reset_index(name='counts')\n",
    "\n",
    "# Now, plot the a graph of number of videos according to category and year\n",
    "plt.figure(figsize=(12, 8))\n",
    "sns.barplot(x='year', y='counts', hue='category', data=video_category_counts)\n",
    "plt.title('Number of videos per year by categories: Gaming, People & Blogs, Howto & Style')\n",
    "plt.xlabel('Year')\n",
    "plt.ylabel('Number of videos')\n",
    "plt.legend(title='Category')\n",
    "plt.show()"
   ]
  },
  {
   "cell_type": "markdown",
   "metadata": {},
   "source": [
    "### Identifying missing timeseries data\n",
    "\n",
    "In this section, we will conduct a sanity check on the timeseries data for any potential missing data in the time period of 2016-2019 that we are interested in for our study. "
   ]
  },
  {
   "cell_type": "code",
   "execution_count": 125,
   "metadata": {},
   "outputs": [
    {
     "data": {
      "image/png": "[encoded data removed]",
      "text/plain": [
       "<Figure size 1200x800 with 1 Axes>"
      ]
     },
     "metadata": {},
     "output_type": "display_data"
    },
    {
     "data": {
      "text/plain": [
       "'Last video posted on the date: 2019-09-30 01:00:00'"
      ]
     },
     "metadata": {},
     "output_type": "display_data"
    }
   ],
   "source": [
    "# Plotting the number of videos created in 2019 by month to identify missing data\n",
    "\n",
    "videos_2019 = video_cat_timeseries[(video_cat_timeseries['datetime']>='2019-01-01') & (video_cat_timeseries['datetime']<='2019-12-31')].copy()\n",
    "videos_2019['month'] = videos_2019['datetime'].dt.month\n",
    "\n",
    "# Group by 'month' and then get the size of each grouping\n",
    "video_counts_2019 = videos_2019.groupby(['month']).size().reset_index(name='counts')\n",
    "\n",
    "# Now, plot the results with seaborn\n",
    "plt.figure(figsize=(12, 8))\n",
    "sns.barplot(x='month', y='counts', data=video_counts_2019)\n",
    "\n",
    "plt.title('Video Count in 2019 by Month')\n",
    "plt.xlabel('Month')\n",
    "plt.ylabel('Number of videos')\n",
    "plt.show()\n",
    "\n",
    "# find the channel with the last join date in the channels dataset\n",
    "display(\"Last video posted on the date: \" + str(videos_2019['datetime'].max()))"
   ]
  },
  {
   "cell_type": "markdown",
   "metadata": {},
   "source": [
    "#### Comment on missing data in channels and timeseries dataset\n",
    "\n",
    "The last available channel in the channel dataset joined on 23rd August 2019 and the last available video was posted on 30th September 2019. There is roughly a 1.5 month difference between the date of last joined channel and the date of last video posted available in our dataset. We will keep in mind that there are missing data from 23rd August 2019 onwards in the `df_channels_en.tsv` dataset and missing data from 30th September 2019 onwards in the `df_timeseries.tsv` dataset. "
   ]
  },
  {
   "cell_type": "markdown",
   "metadata": {},
   "source": [
    "# Preprocessing data\n",
    "\n",
    "## Relevant datasets\n",
    "The datasets that we will work with for our project are: \n",
    "- `yt_metadata_en.jsonl.gz`\n",
    "- `df_channels_en.tsv.gz`\n",
    "- `df_timeseries_en.csv.gz`\n",
    "\n",
    "## Reading Youtube video metadata \n",
    "As we are primarily interested in the collaborations between youtube channels, we will process the data within the `yt_metadata_en.jsonl.gz` dataset to identify collaborations between youtube channels. As the metadate set is very large, we will first define some function which will help us filter the dataset as we read it in. \n",
    "\n",
    "The main purpose of the `yt_metadata_en.jsonl.gz` dataset in our project is to provide collaboration information between youtube channels. \n",
    "\n",
    "Thus, we will use the dataset to find collaborators IDs in the description of each video. Afterwhich, we will drop the `description`, `title`, and `tags` columns of the dataset as these are not relevant to our study. "
   ]
  },
  {
   "cell_type": "code",
   "execution_count": 126,
   "metadata": {},
   "outputs": [],
   "source": [
    "## Preparing channels dataframe for future use in mapping channel name to channel ID\n",
    "\n",
    "# keeping only the channel_id and channel_name\n",
    "channel_ids_and_names = df_channels[['channel' , 'name_cc']].copy()\n",
    "# rename channel id and channel name for readability\n",
    "channel_ids_and_names.rename(columns={\"channel\": \"channel_id\", \"name_cc\": \"channel_name\"} , inplace= True)\n",
    "\n",
    "# convert to unique ids to set for better efficiency\n",
    "unique_ids_set = set(channel_ids_and_names.channel_id.unique())\n",
    "# create a dictionary of channel name to id for faster lookup\n",
    "channel_name_to_id = pd.Series(channel_ids_and_names.channel_id.values, index=channel_ids_and_names.channel_name.str.lower()).to_dict()"
   ]
  },
  {
   "cell_type": "markdown",
   "metadata": {},
   "source": [
    "### Extracting collaborating channels from video descriptions\n",
    "\n",
    "With the filtered dataframes, we can search for indications of collaboration between youtube channels by identifying channel links in the video descriptions. \n",
    "\n",
    "According to the [official youtube website](https://support.google.com/youtube/answer/6180214?hl=en), youtube channel urls can take the following 4 forms: \n",
    "1. Channel url: youtube.com/channel/unique_channel_id\n",
    "2. Handle url: youtube.com/@youtube_channel\n",
    "3. Custom url: youtube.com/c/youtube_channel\n",
    "4. Legacy username url: youtube.com/user/youtube_channel_username\n",
    "\n",
    "Thus, we will search video descriptions for links with any format from above. Formats 1 and 4 contains the channel ID as part of the link while formats 2 and 3 contain channel names. \n",
    "\n",
    "Channel names found will be appended to a new column, `channe_name`, while channel IDs found will be appended to another column, `channel_id`, in the dataframe. If more than one channel is mentioned, all channels will be appeneded in a list. \n"
   ]
  },
  {
   "cell_type": "code",
   "execution_count": 127,
   "metadata": {},
   "outputs": [],
   "source": [
    "### Identifying channel collaboration: scraping youtube channel links from the description\n",
    "\n",
    "# function to extract all youtube channel IDs and channel names (4.4 seconds to run)\n",
    "def extract_youtube_channels(text):\n",
    "    \n",
    "    # regex for finding YouTube channel URLs\n",
    "    channel_id_pattern = r'https?://www\\.youtube\\.com/(?:channel/|user/)([\\w-]+)'\n",
    "    channel_name_pattern = r'https?://www\\.youtube\\.com/(?:@|c/)([\\w-]+)'\n",
    "\n",
    "    # find all links that match the patterns\n",
    "    channel_ids = re.findall(channel_id_pattern, text)\n",
    "    channel_names = re.findall(channel_name_pattern, text)\n",
    "\n",
    "    # # join the IDs and names found (or None if not found)\n",
    "    channel_id = channel_ids if channel_ids else None\n",
    "    channel_name = channel_names if channel_names else None\n",
    "\n",
    "    return channel_id, channel_name"
   ]
  },
  {
   "cell_type": "markdown",
   "metadata": {},
   "source": [
    "## Constructing Video Collaboration dataset\n",
    "\n",
    "From the dataset containing the channel IDs/names of channels mentioned in each video's description, we will construct a dataset that contains videos with channel collaboration (represented by the channel id of the collaborating channel). \n",
    "\n",
    "To do so, we need the new dataset to satisfy 2 conditions\n",
    "1. Channel ID/name listed as the collaborating channel must be different from channel ID/name of video creator. (A channel cannot collaborate with itself)\n",
    "2. Channel ID should not be empty \n",
    "\n",
    "Channel names identified in the description in column `'mentioned_channel_name'` (without corresponding channel ids) will be matched to its corresponding channel ID in the `channel_ids_and_names` dataset (constructed from the given `df_channels_en.tsv.gz` dataset). \n",
    "\n",
    "We chose to keep channel IDs as the identifier for channels because the dataset `df_timeseries_en.csv.gz` that we will subsequently use is based on channel ID.  "
   ]
  },
  {
   "cell_type": "markdown",
   "metadata": {},
   "source": [
    "### Upper bounds on useful collaboration data\n",
    "\n",
    "As we are only able to work on channel names with corresponding channel IDs in the `df_channels_en.tsv` dataset used by our channel name to channel ID mapping, not all channel names found and identified in the youtube metadata (`yt_metadata_en.jsonl.gz`) is useable for our study. Furthermore, as we intend to analyse the youtube metadata together with the timeseries data, useful collaboration data is also restricted by channel IDs that exist in the youtube timeseries dataset (`df_timeseries.tsv`). \n",
    "\n",
    "To get a better idea of the size of useful collaboration data in our study, we will obtain some preliminary numbers on the size of channels id/names data in both the channels dataset and the timeseries dataset. "
   ]
  },
  {
   "cell_type": "code",
   "execution_count": 128,
   "metadata": {},
   "outputs": [
    {
     "data": {
      "text/plain": [
       "'Number of channels in channels dataset but not in timeseries dataset: 2954'"
      ]
     },
     "metadata": {},
     "output_type": "display_data"
    },
    {
     "data": {
      "text/plain": [
       "'Number of channels in channels dataset: 136470'"
      ]
     },
     "metadata": {},
     "output_type": "display_data"
    }
   ],
   "source": [
    "# convert timeseries channel data into a set for better searchability\n",
    "timeseries_channels_and_ids = set(df_timeseries['channel'].dropna())\n",
    "\n",
    "# Identifying all channels in the channels dataset but not in the timeseries dataset \n",
    "# (set of channels\\timeseries)\n",
    "missing_channels_ts = []\n",
    "for id in unique_ids_set: \n",
    "    if id not in timeseries_channels_and_ids: \n",
    "        missing_channels_ts.append(id)\n",
    "\n",
    "display(\"Number of channels in channels dataset but not in timeseries dataset: \" + str(len(missing_channels_ts)))\n",
    "display(\"Number of channels in channels dataset: \" + str(len(unique_ids_set)))\n"
   ]
  },
  {
   "cell_type": "code",
   "execution_count": 129,
   "metadata": {},
   "outputs": [
    {
     "data": {
      "text/plain": [
       "'Number of channels in timeseries dataset but not in channels dataset: 20034'"
      ]
     },
     "metadata": {},
     "output_type": "display_data"
    },
    {
     "data": {
      "text/plain": [
       "'Number of channels in timeseries dataset: 153550'"
      ]
     },
     "metadata": {},
     "output_type": "display_data"
    }
   ],
   "source": [
    "# Identifying all channels in the timeseries dataset but not in the channels dataset \n",
    "# (set of timeseries\\channels)\n",
    "missing_channels_channeldata = []\n",
    "for id in timeseries_channels_and_ids: \n",
    "    if id not in unique_ids_set: \n",
    "        missing_channels_channeldata.append(id)\n",
    "\n",
    "display(\"Number of channels in timeseries dataset but not in channels dataset: \" + str(len(missing_channels_channeldata)))\n",
    "display(\"Number of channels in timeseries dataset: \" + str(len(timeseries_channels_and_ids)))"
   ]
  },
  {
   "cell_type": "markdown",
   "metadata": {},
   "source": [
    "Thus, **intersection** of channel ID in timeseries data and channels data is **133516** channels. Thus for future analysis on collaboration between youtube channels, the number of channels we can analyse is upper bounded by either 136470 (working only with metadata and channels dataset), 153550 (working with only metadata and timeseries dataset), or 133516 (working with metadata, timeseries, and channels dataset). "
   ]
  },
  {
   "cell_type": "markdown",
   "metadata": {},
   "source": [
    "### Filtering collaborator IDs obtained\n",
    "\n",
    "As we are primarily interested in the impacts of collaborations on channel growth, we will always work with the metadata in tandem with another dataset, either the channels dataset (`df_channels_en.tsv.gz`) or the timeseries dataset(`df_timeseries_en.csv.gz`). Thus, following functions will filter and map the collaborating channel names found according to existing mappings of channel names to channel ID in the `df_channels_en.tsv.gz` dataset. \n",
    "\n",
    "We have to convert all channel names to channel IDs in our collaborators dataset as the timeseries dataset only contains channel IDs and not channel names. "
   ]
  },
  {
   "cell_type": "code",
   "execution_count": 130,
   "metadata": {},
   "outputs": [],
   "source": [
    "# function to map channel name to channel ID\n",
    "\n",
    "def get_channel_ids_from_valid_names(mentioned_named, channel_name_to_id):\n",
    "    def process_entry(names):\n",
    "        # Handle missing values\n",
    "        if not names:\n",
    "            return None\n",
    "        # Lookup each name in the channel_name_to_id dictionary\n",
    "        valid_ids = [channel_name_to_id.get(name.strip().lower()) for name in names if name.strip().lower() in channel_name_to_id]\n",
    "        # Filter out None values in case a name wasn't found in the dictionary\n",
    "        valid_ids = [id for id in valid_ids if id is not None]  \n",
    "        return valid_ids if valid_ids else None\n",
    "\n",
    "    # list comprehension instead of apply for potentially better performance\n",
    "    # returns a list of channel IDs for channels names mentioned\n",
    "    return [process_entry(entry) for entry in mentioned_named]"
   ]
  },
  {
   "cell_type": "markdown",
   "metadata": {},
   "source": [
    "Next, we will filter out all collaborator IDs that is the same as the channel ID of the video creator. This is because it is not possible for a channel to collaborate with itself. "
   ]
  },
  {
   "cell_type": "code",
   "execution_count": 131,
   "metadata": {},
   "outputs": [],
   "source": [
    "## when a youtube channel mentions its own channel in the video description, it is not a collaboration. \n",
    "## Thus, all such instances will be dropped.\n",
    "\n",
    "# function to filter out all self-mentioning videos according to channel ID\n",
    "def filter_ids_by_not_self_mentioning(df):\n",
    "    # Define a vectorized function\n",
    "    def process_entry(mentioned_ids, channel_id):\n",
    "        if not mentioned_ids:\n",
    "            return None\n",
    "        ids = [id.strip() for id in mentioned_ids]\n",
    "        valid_ids = [id for id in ids if id != channel_id]\n",
    "        return valid_ids if valid_ids else None\n",
    "        # do we need to keep converting channel ids between list and string or can we just keep it as a list\n",
    "\n",
    "    # Split, process, and rejoin without using apply row-wise\n",
    "    filtered = [process_entry(m_id, c_id) for m_id, c_id in zip(df['mentioned_channel_ID'], df['channel_id'])]\n",
    "    \n",
    "    return filtered"
   ]
  },
  {
   "cell_type": "markdown",
   "metadata": {},
   "source": [
    "Before we combine the channel IDs obtained from channel names and the existing channel IDs, we have to remove any redundant channel IDs. \n",
    "\n",
    "A channel ID is redundant if it satisfies one of the following 2 conditions: \n",
    "1. it is the same as the ID of the video creator\n",
    "2. it is already present in our filtered mentioned channel ID\n",
    "\n",
    "Thus we will conduct 2 checks in the following function: \n",
    "1. `ids_from_valid_names` are not the same as the `channel_id`\n",
    "2. the id of the channel name doesn't appear in our `filtered_mentionned_channel_ID`"
   ]
  },
  {
   "cell_type": "code",
   "execution_count": 132,
   "metadata": {},
   "outputs": [],
   "source": [
    "def remove_redundant_ids(row):\n",
    "    # split the ids into a list, remove any whitespace, and filter out any empty strings\n",
    "    valid_ids = list(filter(None, [x.strip() for x in str(row['ids_from_valid_names'])]))\n",
    "    mentioned_ids = set(filter(None, [x.strip() for x in str(row['filtered_mentioned_channel_ID'])]))\n",
    "    \n",
    "    # remove the channel_id from the valid_ids if it's present\n",
    "    valid_ids = [id for id in valid_ids if id != row['channel_id']]\n",
    "    \n",
    "    # remove any id from valid_ids if it's already present in mentioned_ids\n",
    "    valid_ids = [id for id in valid_ids if id not in mentioned_ids]\n",
    "    \n",
    "    # join the valid ids back into a string\n",
    "    return valid_ids if valid_ids else None"
   ]
  },
  {
   "cell_type": "markdown",
   "metadata": {},
   "source": [
    "The next function concatenated both columns of IDs we get into a single column of final collaborator IDs"
   ]
  },
  {
   "cell_type": "code",
   "execution_count": 133,
   "metadata": {},
   "outputs": [],
   "source": [
    "def concatenate_columns(row):\n",
    "    val1 = row['filtered_mentioned_channel_ID']\n",
    "    val2 = row['clean_ids_from_valid_names']\n",
    "    \n",
    "    # Check for None values\n",
    "    if not val1 and not val2:\n",
    "        return None\n",
    "    elif not val1:\n",
    "        return val2\n",
    "    elif not val2:\n",
    "        return val1\n",
    "    else:\n",
    "        val3 = val1 + val2\n",
    "        return val3"
   ]
  },
  {
   "cell_type": "markdown",
   "metadata": {},
   "source": [
    "The next function groups all our function into one. "
   ]
  },
  {
   "cell_type": "code",
   "execution_count": 134,
   "metadata": {},
   "outputs": [],
   "source": [
    "def preprocessing_chunk(chunk):\n",
    "    # work on a copy to avoid the error\n",
    "    chunk = chunk.copy()\n",
    "    \n",
    "    #function 1\n",
    "    chunk[['mentioned_channel_ID', 'mentioned_channel_name']] = chunk['description'].apply(\n",
    "        lambda x: pd.Series(extract_youtube_channels(x)))\n",
    "    \n",
    "    # drop these columns as we don't need them, work on a less heavy dataset\n",
    "    chunk.drop(['tags', 'description', 'title'], axis=1, inplace=True)\n",
    "    \n",
    "    #function 2\n",
    "    chunk['filtered_mentioned_channel_ID'] = filter_ids_by_not_self_mentioning(\n",
    "        chunk[['mentioned_channel_ID', 'channel_id']])\n",
    "    \n",
    "    #function 3\n",
    "    chunk['ids_from_valid_names'] = get_channel_ids_from_valid_names(chunk['mentioned_channel_name'], channel_name_to_id)\n",
    "    \n",
    "    #function 4\n",
    "    chunk['clean_ids_from_valid_names'] = chunk.apply(remove_redundant_ids, axis=1)\n",
    "\n",
    "    #function 5\n",
    "    chunk['final_collaborator_ids'] = chunk.apply(concatenate_columns, axis=1)\n",
    "    \n",
    "    #dropping the columns we don't need anymore\n",
    "    preprocessed_chunk = chunk.drop(['mentioned_channel_ID', 'mentioned_channel_name',\n",
    "                                     'filtered_mentioned_channel_ID', 'ids_from_valid_names',\n",
    "                                     'clean_ids_from_valid_names'], axis=1)\n",
    "    \n",
    "    \n",
    "    return preprocessed_chunk"
   ]
  },
  {
   "cell_type": "markdown",
   "metadata": {},
   "source": [
    "## Importing the dataset and applying the preprocessing steps"
   ]
  },
  {
   "cell_type": "code",
   "execution_count": 135,
   "metadata": {},
   "outputs": [],
   "source": [
    "# empty list to store the processed chunks\n",
    "final_dataframe_list = []\n",
    "# size of each chunk\n",
    "chunk_size = 100000\n",
    "\n",
    "# read the dataset in chunks and preprocess each chunk\n",
    "with gzip.open(data_path, 'rt', encoding='utf-8') as file:\n",
    "    for chunk in pd.read_json(file, lines=True, chunksize=chunk_size, convert_dates=['upload_date']):\n",
    "        # filter the chunk\n",
    "        filtered_chunk = chunk[\n",
    "            (chunk['categories'] == 'Gaming') & \n",
    "            (chunk['upload_date'] > pd.Timestamp('2016-01-01'))\n",
    "        ]\n",
    "        # preprocess the filtered chunk\n",
    "        preprocessed_chunk = preprocessing_chunk(filtered_chunk)\n",
    "        # append the preprocessed chunk to the list\n",
    "        final_dataframe_list.append(preprocessed_chunk)\n",
    "\n",
    "# concatenate all the preprocessed chunks into a single DataFrame\n",
    "final_dataframe = pd.concat(final_dataframe_list, ignore_index=True)"
   ]
  },
  {
   "cell_type": "markdown",
   "metadata": {},
   "source": [
    "Now we will take a closer look at whether we have sufficient data of collaborations between channels. "
   ]
  },
  {
   "cell_type": "code",
   "execution_count": 136,
   "metadata": {},
   "outputs": [
    {
     "data": {
      "text/plain": [
       "categories                      0\n",
       "channel_id                      0\n",
       "crawl_date                      0\n",
       "dislike_count               81608\n",
       "display_id                      0\n",
       "duration                        0\n",
       "like_count                  81608\n",
       "upload_date                     0\n",
       "view_count                      1\n",
       "final_collaborator_ids    7381779\n",
       "dtype: int64"
      ]
     },
     "metadata": {},
     "output_type": "display_data"
    }
   ],
   "source": [
    "display(final_dataframe.isnull().sum())"
   ]
  },
  {
   "cell_type": "code",
   "execution_count": 139,
   "metadata": {},
   "outputs": [
    {
     "name": "stdout",
     "output_type": "stream",
     "text": [
      "We have 19.47 percent of rows where the collaborator ID is not NaN. This represents 1784498 out of 9166277 rows.\n"
     ]
    }
   ],
   "source": [
    "nb_not_nan_collaborators = final_dataframe.final_collaborator_ids.dropna().count() / final_dataframe.shape[0]\n",
    "print('We have %0.2f percent of rows where the collaborator ID is not NaN. This represents %i out of %i rows.' % (nb_not_nan_collaborators * 100, final_dataframe.final_collaborator_ids.dropna().count(), final_dataframe.shape[0]))"
   ]
  },
  {
   "cell_type": "code",
   "execution_count": 146,
   "metadata": {},
   "outputs": [
    {
     "data": {
      "text/html": [
       "<div>\n",
       "<style scoped>\n",
       "    .dataframe tbody tr th:only-of-type {\n",
       "        vertical-align: middle;\n",
       "    }\n",
       "\n",
       "    .dataframe tbody tr th {\n",
       "        vertical-align: top;\n",
       "    }\n",
       "\n",
       "    .dataframe thead th {\n",
       "        text-align: right;\n",
       "    }\n",
       "</style>\n",
       "<table border=\"1\" class=\"dataframe\">\n",
       "  <thead>\n",
       "    <tr style=\"text-align: right;\">\n",
       "      <th></th>\n",
       "      <th>categories</th>\n",
       "      <th>channel_id</th>\n",
       "      <th>crawl_date</th>\n",
       "      <th>dislike_count</th>\n",
       "      <th>display_id</th>\n",
       "      <th>duration</th>\n",
       "      <th>like_count</th>\n",
       "      <th>upload_date</th>\n",
       "      <th>view_count</th>\n",
       "      <th>final_collaborator_ids</th>\n",
       "      <th>Year-Week</th>\n",
       "    </tr>\n",
       "  </thead>\n",
       "  <tbody>\n",
       "    <tr>\n",
       "      <th>926</th>\n",
       "      <td>Gaming</td>\n",
       "      <td>UCzWm1-4XF7AHxVUTkHCM1uw</td>\n",
       "      <td>2019-11-17 06:28:38.659449</td>\n",
       "      <td>22.0</td>\n",
       "      <td>glNTWlJ-DWo</td>\n",
       "      <td>878</td>\n",
       "      <td>114.0</td>\n",
       "      <td>2018-11-28</td>\n",
       "      <td>2570.0</td>\n",
       "      <td>[UC_0CVCfC_3iuHqmyClu59Uw, N, o, n, e]</td>\n",
       "      <td>2018-47</td>\n",
       "    </tr>\n",
       "    <tr>\n",
       "      <th>966</th>\n",
       "      <td>Gaming</td>\n",
       "      <td>UCzWm1-4XF7AHxVUTkHCM1uw</td>\n",
       "      <td>2019-11-17 06:29:03.770975</td>\n",
       "      <td>36.0</td>\n",
       "      <td>YQx04vMXmcw</td>\n",
       "      <td>391</td>\n",
       "      <td>41.0</td>\n",
       "      <td>2017-05-27</td>\n",
       "      <td>1233.0</td>\n",
       "      <td>[UCCCmzJ3nCLEMYa3YbLmrKEw, N, o, e]</td>\n",
       "      <td>2017-21</td>\n",
       "    </tr>\n",
       "    <tr>\n",
       "      <th>1039</th>\n",
       "      <td>Gaming</td>\n",
       "      <td>UCzWfqsjlvzAOUozsGFR3kbg</td>\n",
       "      <td>2019-10-31 15:41:29.005273</td>\n",
       "      <td>209.0</td>\n",
       "      <td>r75RJ9tCUXg</td>\n",
       "      <td>668</td>\n",
       "      <td>2581.0</td>\n",
       "      <td>2018-04-25</td>\n",
       "      <td>139470.0</td>\n",
       "      <td>[UC6ofrdxbm3RijOx6NsMU8Sg, n, e]</td>\n",
       "      <td>2018-16</td>\n",
       "    </tr>\n",
       "    <tr>\n",
       "      <th>1108</th>\n",
       "      <td>Gaming</td>\n",
       "      <td>UCzWfqsjlvzAOUozsGFR3kbg</td>\n",
       "      <td>2019-10-31 15:41:10.122731</td>\n",
       "      <td>86.0</td>\n",
       "      <td>g2aaEEGHzQs</td>\n",
       "      <td>809</td>\n",
       "      <td>1529.0</td>\n",
       "      <td>2017-09-21</td>\n",
       "      <td>71869.0</td>\n",
       "      <td>[bentimm1, N, o]</td>\n",
       "      <td>2017-38</td>\n",
       "    </tr>\n",
       "    <tr>\n",
       "      <th>1139</th>\n",
       "      <td>Gaming</td>\n",
       "      <td>UCzWfqsjlvzAOUozsGFR3kbg</td>\n",
       "      <td>2019-10-31 15:41:30.655084</td>\n",
       "      <td>36.0</td>\n",
       "      <td>d23UxeNKbWo</td>\n",
       "      <td>256</td>\n",
       "      <td>225.0</td>\n",
       "      <td>2017-08-22</td>\n",
       "      <td>9952.0</td>\n",
       "      <td>[UCNVnYNZQXjD2_HYsmO3F_rw, o, e]</td>\n",
       "      <td>2017-34</td>\n",
       "    </tr>\n",
       "  </tbody>\n",
       "</table>\n",
       "</div>"
      ],
      "text/plain": [
       "     categories                channel_id                  crawl_date  \\\n",
       "926      Gaming  UCzWm1-4XF7AHxVUTkHCM1uw  2019-11-17 06:28:38.659449   \n",
       "966      Gaming  UCzWm1-4XF7AHxVUTkHCM1uw  2019-11-17 06:29:03.770975   \n",
       "1039     Gaming  UCzWfqsjlvzAOUozsGFR3kbg  2019-10-31 15:41:29.005273   \n",
       "1108     Gaming  UCzWfqsjlvzAOUozsGFR3kbg  2019-10-31 15:41:10.122731   \n",
       "1139     Gaming  UCzWfqsjlvzAOUozsGFR3kbg  2019-10-31 15:41:30.655084   \n",
       "\n",
       "      dislike_count   display_id  duration  like_count upload_date  \\\n",
       "926            22.0  glNTWlJ-DWo       878       114.0  2018-11-28   \n",
       "966            36.0  YQx04vMXmcw       391        41.0  2017-05-27   \n",
       "1039          209.0  r75RJ9tCUXg       668      2581.0  2018-04-25   \n",
       "1108           86.0  g2aaEEGHzQs       809      1529.0  2017-09-21   \n",
       "1139           36.0  d23UxeNKbWo       256       225.0  2017-08-22   \n",
       "\n",
       "      view_count                  final_collaborator_ids Year-Week  \n",
       "926       2570.0  [UC_0CVCfC_3iuHqmyClu59Uw, N, o, n, e]   2018-47  \n",
       "966       1233.0     [UCCCmzJ3nCLEMYa3YbLmrKEw, N, o, e]   2017-21  \n",
       "1039    139470.0        [UC6ofrdxbm3RijOx6NsMU8Sg, n, e]   2018-16  \n",
       "1108     71869.0                        [bentimm1, N, o]   2017-38  \n",
       "1139      9952.0        [UCNVnYNZQXjD2_HYsmO3F_rw, o, e]   2017-34  "
      ]
     },
     "execution_count": 146,
     "metadata": {},
     "output_type": "execute_result"
    }
   ],
   "source": [
    "final_dataframe.dropna().head()"
   ]
  },
  {
   "cell_type": "code",
   "execution_count": 140,
   "metadata": {},
   "outputs": [],
   "source": [
    "## Exporting dataframe from processed metadata\n",
    "final_dataframe.to_csv('./processed_data/dataframe_collaborations_videos.csv', index=False)"
   ]
  }
 ],
 "metadata": {
  "kernelspec": {
   "display_name": "ada",
   "language": "python",
   "name": "python3"
  },
  "language_info": {
   "codemirror_mode": {
    "name": "ipython",
    "version": 3
   },
   "file_extension": ".py",
   "mimetype": "text/x-python",
   "name": "python",
   "nbconvert_exporter": "python",
   "pygments_lexer": "ipython3",
   "version": "3.9.18"
  }
 },
 "nbformat": 4,
 "nbformat_minor": 2
}
